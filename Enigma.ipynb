{
  "nbformat": 4,
  "nbformat_minor": 0,
  "metadata": {
    "colab": {
      "name": "Enigma.ipynb",
      "provenance": [],
      "collapsed_sections": [],
      "toc_visible": true,
      "authorship_tag": "ABX9TyM5raqALnp9RF0yqITAa2kq",
      "include_colab_link": true
    },
    "kernelspec": {
      "name": "python3",
      "display_name": "Python 3"
    }
  },
  "cells": [
    {
      "cell_type": "markdown",
      "metadata": {
        "id": "view-in-github",
        "colab_type": "text"
      },
      "source": [
        "<a href=\"https://colab.research.google.com/github/hanaforoosh/Enigma/blob/master/Enigma.ipynb\" target=\"_parent\"><img src=\"https://colab.research.google.com/assets/colab-badge.svg\" alt=\"Open In Colab\"/></a>"
      ]
    },
    {
      "cell_type": "markdown",
      "metadata": {
        "id": "9raZIffh_mjh",
        "colab_type": "text"
      },
      "source": [
        "#Rotors"
      ]
    },
    {
      "cell_type": "markdown",
      "metadata": {
        "id": "gTDlyXMXd83i",
        "colab_type": "text"
      },
      "source": [
        "## Creation"
      ]
    },
    {
      "cell_type": "code",
      "metadata": {
        "id": "yey7lLMc_6E6",
        "colab_type": "code",
        "colab": {
          "base_uri": "https://localhost:8080/",
          "height": 34
        },
        "outputId": "5f760f17-20c3-4f6a-e0f2-e46ddafd4209"
      },
      "source": [
        "import string\n",
        "import random\n",
        "alphabet = string.ascii_letters+string.digits+' .\\'!?()[]:;÷'\n",
        "n = int(input('Enter number of rotors: '))\n",
        "rotors =[]\n",
        "for i in range(n):\n",
        "  rotor = list(alphabet)\n",
        "  random.shuffle(rotor)\n",
        "  rotor = ''.join(rotor)\n",
        "  rotors.append(rotor)"
      ],
      "execution_count": null,
      "outputs": [
        {
          "output_type": "stream",
          "text": [
            "Enter number of rotors: 3\n"
          ],
          "name": "stdout"
        }
      ]
    },
    {
      "cell_type": "markdown",
      "metadata": {
        "id": "27Bp3nP0eD-k",
        "colab_type": "text"
      },
      "source": [
        "## Store"
      ]
    },
    {
      "cell_type": "code",
      "metadata": {
        "id": "oH8MN9I2BNeR",
        "colab_type": "code",
        "colab": {}
      },
      "source": [
        "import pickle\n",
        "pickle.dump(rotors,open('rotors.p','wb'))"
      ],
      "execution_count": null,
      "outputs": []
    },
    {
      "cell_type": "markdown",
      "metadata": {
        "id": "2Jie-yI3eI6B",
        "colab_type": "text"
      },
      "source": [
        "## Load"
      ]
    },
    {
      "cell_type": "code",
      "metadata": {
        "id": "2hppMqCKSeAN",
        "colab_type": "code",
        "colab": {}
      },
      "source": [
        "import pickle\n",
        "rotors =pickle.load(open('rotors.p','rb'))"
      ],
      "execution_count": null,
      "outputs": []
    },
    {
      "cell_type": "code",
      "metadata": {
        "id": "vEQjlQ8lDj7Q",
        "colab_type": "code",
        "colab": {
          "base_uri": "https://localhost:8080/",
          "height": 54
        },
        "outputId": "2e2b3ca3-8f64-4035-b73b-cd89ce1f3619"
      },
      "source": [
        "print (rotors)"
      ],
      "execution_count": null,
      "outputs": [
        {
          "output_type": "stream",
          "text": [
            "[\"n7v?[!yhUoVN1sQ3qjX5A÷KiS]p8RdkTCE'6MaF.)H:IJeLlrwcuOP(zg02t4ZmW xfBD;GYb9\", \"RB)K]oaWMeh4t;P(IDg158.v:b9nwyQuCkdNrzYJA÷[q7HGlV2 jFUE03Si'mTpO!L6sXc?fZx\", \"WFIYKoU6m1J2gjDl.!'0i;n?pd73wuXv÷LftSV)[BEOze 5GkM9H]TAPqbcx8NhZ4Cray(QRs:\"]\n"
          ],
          "name": "stdout"
        }
      ]
    },
    {
      "cell_type": "markdown",
      "metadata": {
        "id": "q_SEiTEwZ02G",
        "colab_type": "text"
      },
      "source": [
        "#Enigma main code (Encrpytion and Decryption process)"
      ]
    },
    {
      "cell_type": "code",
      "metadata": {
        "id": "iwuf_Tg_ATcF",
        "colab_type": "code",
        "colab": {}
      },
      "source": [
        "from copy import deepcopy\n",
        "import string\n",
        "\n",
        "def rotate(rotor):\n",
        "  rotor = rotor[1:]+rotor[0]\n",
        "  return rotor\n",
        "\n",
        "def Enc_Decrypt(plain,rotors):\n",
        "  rotors = deepcopy(rotors)\n",
        "  alphabet = string.ascii_letters+string.digits+' .\\'!?()[]:;÷'\n",
        "\n",
        "  rotations = 0\n",
        "  cipher=''\n",
        "  for c in plain:\n",
        "    r = c\n",
        "    for rotor in rotors:\n",
        "      r = rotor[alphabet.find(r)]\n",
        "\n",
        "    reflected = alphabet[len(alphabet)-1-alphabet.find(r)]\n",
        "\n",
        "    a = reflected\n",
        "    for rotor in rotors[::-1]:\n",
        "      a = alphabet[rotor.find(a)]\n",
        "\n",
        "    cipher+=a\n",
        "\n",
        "    rotors[0] = rotate(rotors[0])\n",
        "    rotations +=1\n",
        "\n",
        "    for i in range(1,len(rotors)):\n",
        "      if rotations % (len(alphabet)**(i-1))==0:\n",
        "        rotors[i]=rotate(rotors[i])\n",
        "    \n",
        "  return cipher"
      ],
      "execution_count": null,
      "outputs": []
    },
    {
      "cell_type": "markdown",
      "metadata": {
        "id": "bxUHawl1QtZq",
        "colab_type": "text"
      },
      "source": [
        "#Test"
      ]
    },
    {
      "cell_type": "code",
      "metadata": {
        "id": "9ho6J2NHe7Qk",
        "colab_type": "code",
        "colab": {
          "base_uri": "https://localhost:8080/",
          "height": 34
        },
        "outputId": "efef109d-2a26-4ddc-ae8d-c5d10591916b"
      },
      "source": [
        "print(Enc_Decrypt(Enc_Decrypt('This is just a simple test! ÷)',rotors),rotors))"
      ],
      "execution_count": null,
      "outputs": [
        {
          "output_type": "stream",
          "text": [
            "This is just a simple test! ÷)\n"
          ],
          "name": "stdout"
        }
      ]
    },
    {
      "cell_type": "code",
      "metadata": {
        "id": "CsA4yXGbajvs",
        "colab_type": "code",
        "colab": {
          "base_uri": "https://localhost:8080/",
          "height": 34
        },
        "outputId": "e04247de-7f9a-4724-9ef6-b1b0180cb82b"
      },
      "source": [
        "import lorem\n",
        "text =' '.join(lorem.text() for i in range(100))\n",
        "text = ''.join(e for e in text if e in alphabet)\n",
        "cipher = Enc_Decrypt(text,rotors)\n",
        "plain = Enc_Decrypt(cipher,rotors)\n",
        "print(plain == text)"
      ],
      "execution_count": null,
      "outputs": [
        {
          "output_type": "stream",
          "text": [
            "True\n"
          ],
          "name": "stdout"
        }
      ]
    }
  ]
}