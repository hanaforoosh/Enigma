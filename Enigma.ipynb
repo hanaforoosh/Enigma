{
  "nbformat": 4,
  "nbformat_minor": 0,
  "metadata": {
    "colab": {
      "name": "Enigma.ipynb",
      "provenance": [],
      "collapsed_sections": [],
      "authorship_tag": "ABX9TyOWekI7islWCKXwp5fPwl8a",
      "include_colab_link": true
    },
    "kernelspec": {
      "name": "python3",
      "display_name": "Python 3"
    }
  },
  "cells": [
    {
      "cell_type": "markdown",
      "metadata": {
        "id": "view-in-github",
        "colab_type": "text"
      },
      "source": [
        "<a href=\"https://colab.research.google.com/github/hanaforoosh/Enigma/blob/master/Enigma.ipynb\" target=\"_parent\"><img src=\"https://colab.research.google.com/assets/colab-badge.svg\" alt=\"Open In Colab\"/></a>"
      ]
    },
    {
      "cell_type": "markdown",
      "metadata": {
        "id": "9raZIffh_mjh",
        "colab_type": "text"
      },
      "source": [
        "#Rotors"
      ]
    },
    {
      "cell_type": "markdown",
      "metadata": {
        "id": "gTDlyXMXd83i",
        "colab_type": "text"
      },
      "source": [
        "## Creation"
      ]
    },
    {
      "cell_type": "code",
      "metadata": {
        "id": "yey7lLMc_6E6",
        "colab_type": "code",
        "colab": {
          "base_uri": "https://localhost:8080/",
          "height": 34
        },
        "outputId": "209ea6d2-adb0-41cd-df04-8a0002bad867"
      },
      "source": [
        "import string\n",
        "import random\n",
        "alphabet = string.ascii_letters+string.digits+' .\\'!?()[]:;÷'+'؟ابپتثجچحخدذرزژسشصضطظعغفقکگلمنوهی'\n",
        "n = int(input('Enter number of rotors: '))\n",
        "rotors =[]\n",
        "for i in range(n):\n",
        "  rotor = list(alphabet)\n",
        "  random.shuffle(rotor)\n",
        "  rotor = ''.join(rotor)\n",
        "  rotors.append(rotor)"
      ],
      "execution_count": 17,
      "outputs": [
        {
          "output_type": "stream",
          "text": [
            "Enter number of rotors: 3\n"
          ],
          "name": "stdout"
        }
      ]
    },
    {
      "cell_type": "markdown",
      "metadata": {
        "id": "27Bp3nP0eD-k",
        "colab_type": "text"
      },
      "source": [
        "## Store"
      ]
    },
    {
      "cell_type": "code",
      "metadata": {
        "id": "oH8MN9I2BNeR",
        "colab_type": "code",
        "colab": {}
      },
      "source": [
        "import pickle\n",
        "pickle.dump(rotors,open('rotors.p','wb'))"
      ],
      "execution_count": 18,
      "outputs": []
    },
    {
      "cell_type": "markdown",
      "metadata": {
        "id": "2Jie-yI3eI6B",
        "colab_type": "text"
      },
      "source": [
        "## Load"
      ]
    },
    {
      "cell_type": "code",
      "metadata": {
        "id": "2hppMqCKSeAN",
        "colab_type": "code",
        "colab": {}
      },
      "source": [
        "import pickle\n",
        "rotors =pickle.load(open('rotors.p','rb'))"
      ],
      "execution_count": 19,
      "outputs": []
    },
    {
      "cell_type": "code",
      "metadata": {
        "id": "vEQjlQ8lDj7Q",
        "colab_type": "code",
        "colab": {
          "base_uri": "https://localhost:8080/",
          "height": 54
        },
        "outputId": "50c2db60-0391-42fe-eeb2-b03f0c09a950"
      },
      "source": [
        "print (rotors)"
      ],
      "execution_count": 20,
      "outputs": [
        {
          "output_type": "stream",
          "text": [
            "[\"dMزBمAPجفhLNU5D8EirV3FyپGQaژOذmXنTRلlظK02x]ضصqخ;Yj؟)fcاح.وJ euربگIwSس6g7[z4عb!÷قغZتدیCs(:'?p1چHکv9kثoطهشntW\", \"2ض(zS:ZnاPxvBس?K i÷چبCuYقbژXFوQRhUل;fجخغAزMckT0lE[4گظtک5e7WطjفرI.پص8Jaذqم!GoLpOنهث)9gحswیت'دDع63]NHdش1r؟Vym\", \"4.Zی6حچفlهO(Mژv5I÷Wbقiبu LB[؟;hNjKcپشzSظصxU']pعساJ!زرfXغwEqy8Hrنtمط:F)7Aذs?e32CTتdض9kکثYmدگaخDgل1QPnRجoVو0G\"]\n"
          ],
          "name": "stdout"
        }
      ]
    },
    {
      "cell_type": "markdown",
      "metadata": {
        "id": "q_SEiTEwZ02G",
        "colab_type": "text"
      },
      "source": [
        "#Enigma main code (Encrpytion and Decryption process)"
      ]
    },
    {
      "cell_type": "code",
      "metadata": {
        "id": "iwuf_Tg_ATcF",
        "colab_type": "code",
        "colab": {}
      },
      "source": [
        "from copy import deepcopy\n",
        "import string\n",
        "\n",
        "def rotate(rotor):\n",
        "  rotor = rotor[1:]+rotor[0]\n",
        "  return rotor\n",
        "\n",
        "def Enc_Decrypt(plain,rotors):\n",
        "  rotors = deepcopy(rotors)\n",
        "  alphabet = string.ascii_letters+string.digits+' .\\'!?()[]:;÷'+'؟ابپتثجچحخدذرزژسشصضطظعغفقکگلمنوهی'\n",
        "\n",
        "  rotations = 0\n",
        "  cipher=''\n",
        "  for c in plain:\n",
        "    r = c\n",
        "    for rotor in rotors:\n",
        "      r = rotor[alphabet.find(r)]\n",
        "\n",
        "    reflected = alphabet[len(alphabet)-1-alphabet.find(r)]\n",
        "\n",
        "    a = reflected\n",
        "    for rotor in rotors[::-1]:\n",
        "      a = alphabet[rotor.find(a)]\n",
        "\n",
        "    cipher+=a\n",
        "\n",
        "    rotors[0] = rotate(rotors[0])\n",
        "    rotations +=1\n",
        "\n",
        "    for i in range(1,len(rotors)):\n",
        "      if rotations % (len(alphabet)**(i-1))==0:\n",
        "        rotors[i]=rotate(rotors[i])\n",
        "    \n",
        "  return cipher"
      ],
      "execution_count": 22,
      "outputs": []
    },
    {
      "cell_type": "markdown",
      "metadata": {
        "id": "bxUHawl1QtZq",
        "colab_type": "text"
      },
      "source": [
        "#Test"
      ]
    },
    {
      "cell_type": "code",
      "metadata": {
        "id": "CsA4yXGbajvs",
        "colab_type": "code",
        "colab": {
          "base_uri": "https://localhost:8080/",
          "height": 34
        },
        "outputId": "7349bd9e-690a-4b8b-a6aa-6e080208b138"
      },
      "source": [
        "import lorem\n",
        "text =' '.join(lorem.text() for i in range(100))\n",
        "text = ''.join(e for e in text if e in alphabet)\n",
        "cipher = Enc_Decrypt(text,rotors)\n",
        "plain = Enc_Decrypt(cipher,rotors)\n",
        "print(plain == text)"
      ],
      "execution_count": 27,
      "outputs": [
        {
          "output_type": "stream",
          "text": [
            "True\n"
          ],
          "name": "stdout"
        }
      ]
    }
  ]
}